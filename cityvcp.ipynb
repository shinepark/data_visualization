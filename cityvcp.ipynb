{
 "cells": [
  {
   "cell_type": "code",
   "execution_count": 36,
   "id": "9c87e862",
   "metadata": {},
   "outputs": [],
   "source": [
    "import requests\n",
    "\n",
    "from bs4 import BeautifulSoup"
   ]
  },
  {
   "cell_type": "code",
   "execution_count": 55,
   "id": "3a1467e9",
   "metadata": {},
   "outputs": [],
   "source": [
    "response = requests.get(\n",
    "    'https://www.sofascore.com/football/match/crystal-palace-women-manchester-cityfc/idhbseJTb#id:12592809',\n",
    "    headers={\n",
    "        'user-agent': 'Mozilla/5.0 (Macintosh; Intel Mac OS X 10_15_7) AppleWebKit/537.36 (KHTML, like Gecko) Chrome/136.0.0.0 Safari/537.36'}\n",
    ")"
   ]
  },
  {
   "cell_type": "code",
   "execution_count": 56,
   "id": "f3b53dad",
   "metadata": {},
   "outputs": [
    {
     "data": {
      "text/plain": [
       "403"
      ]
     },
     "execution_count": 56,
     "metadata": {},
     "output_type": "execute_result"
    }
   ],
   "source": [
    "response.status_code"
   ]
  },
  {
   "cell_type": "code",
   "execution_count": 54,
   "id": "77882c90",
   "metadata": {},
   "outputs": [],
   "source": [
    "soup = BeautifulSoup(response.text, 'html.parser')"
   ]
  },
  {
   "cell_type": "code",
   "execution_count": 40,
   "id": "8e374a17",
   "metadata": {},
   "outputs": [
    {
     "data": {
      "text/plain": [
       "[]"
      ]
     },
     "execution_count": 40,
     "metadata": {},
     "output_type": "execute_result"
    }
   ],
   "source": [
    "soup.select('g[cursor=\"pointer\"]')"
   ]
  },
  {
   "cell_type": "code",
   "execution_count": 41,
   "id": "b8bb8c14",
   "metadata": {},
   "outputs": [],
   "source": [
    "import requests\n",
    "\n",
    "cookies = {\n",
    "    '_cc_id': '3509896f77494ca84b7a679e36b15c22',\n",
    "    'panoramaId_expiry': '1748024168388',\n",
    "    'panoramaId': 'f6be54118ddb9e45d3cc52d6991d185ca02cf0b895c8c73d616508181ea09de2',\n",
    "    'panoramaIdType': 'panoDevice',\n",
    "    '_gcl_au': '1.1.539864209.1747419369',\n",
    "    '_ga': 'GA1.1.1499796712.1747419369',\n",
    "    'cto_bundle': 'xggf8F85aUlkYlI1U3RLelEwenpMN3JnbkR6TmJ3RzNUNjBGMGFrQUZTZmNsNmtyV2pMZiUyQmZTQVVvbXZpZG5BYTJIb29NUW5melhxYWt4Smd6UCUyQmEycGp2ZFNJMTdmRXJpZlo5SllTUTl5JTJCblloRlolMkZzclZwdnVjaWt2NlpWbGhrJTJGNk40WExBeUJUb1VTJTJGM2hySmZjNEs5MGFVVHo0TTU1UmlsYzM5eFRFZyUyQmhxZ2FSOHolMkI1aUVzdVBKa3VQWUt0ejU3VmF6eldXS29CQ3cyQTFhNXFRaDAzZyUzRCUzRA',\n",
    "    '_lr_retry_request': 'true',\n",
    "    '_lr_env_src_ats': 'false',\n",
    "    'gc_session_id': 'tzhk6egplnbz7q7fkn36d',\n",
    "    'gcid_first': '7fced087-15b8-477a-87f2-bd76f2b72fde',\n",
    "    '_au_1d': 'AU1D-0100-001747420344-9M9XHRH3-UEA0',\n",
    "    'pbjs-unifiedid': '%7B%22TDID%22%3A%22dc9646cf-01e9-4a7b-8aab-c1276d4e80d4%22%2C%22TDID_LOOKUP%22%3A%22TRUE%22%2C%22TDID_CREATED_AT%22%3A%222025-04-16T18%3A46%3A43%22%7D',\n",
    "    'pbjs-unifiedid_cst': 'yyzLLLEsNg%3D%3D',\n",
    "    '__gads': 'ID=b4cd96465ad44304:T=1747420340:RT=1747423135:S=ALNI_MbdOWf7Rs98W67VDeVTuJa1ifIzmw',\n",
    "    '__gpi': 'UID=00000f17fcd95b25:T=1747420340:RT=1747423135:S=ALNI_MYsmHtajSKWErZnwaxsMtR1elzMbg',\n",
    "    '__eoi': 'ID=e0b12dc6c9dcc1b1:T=1747420340:RT=1747423135:S=AA-AfjYLs9jrsP3d581BN-sHmdrM',\n",
    "    '_ga_FVWZ0RM4DH': 'GS2.1.s1747423038$o2$g0$t1747423192$j60$l0$h0$dEeuyhg58ROkGC1SjtlHLWL4BHnsbzq4pWg',\n",
    "    '_awl': '2.1747423199.5-8821a565f885c644c894a7c2d8d2668c-6763652d75732d6561737431-7',\n",
    "    'FCNEC': '%5B%5B%22AKsRol8FFjoRiCuwi-ZTSIYFNiR_sn65VG8i1yObksmPOQbFeSuk6OqRCJi-q1Jv2fFeDLLG7SneubSIO1dYOPQZMWo9e-pI2fdHbZZohTNHUjdoCrT8kER0igMHSk6vk-Laj8t9VVLybWTQlSO-Zi3Z6rLigUdyaA%3D%3D%22%5D%5D',\n",
    "    '_ga_HNQ9P9MGZR': 'GS2.1.s1747419368$o1$g1$t1747423199$j60$l0$h0$d_AKZvbmySWrkOasl0wPve0s-ST2jFC48BA',\n",
    "}\n",
    "\n",
    "headers = {\n",
    "    'accept': '*/*',\n",
    "    'accept-language': 'en-US,en;q=0.9',\n",
    "    'baggage': 'sentry-environment=production,sentry-release=J6wLOg7ccPE2kkUq6JmVn,sentry-public_key=d693747a6bb242d9bb9cf7069fb57988,sentry-trace_id=435b6f3334654892b5c09b85a506c849',\n",
    "    'cache-control': 'max-age=0',\n",
    "    'if-none-match': 'W/\"11eadf8299\"',\n",
    "    'priority': 'u=1, i',\n",
    "    'referer': 'https://www.sofascore.com/football/match/manchester-cityfc-barcelona/OhGsidhb',\n",
    "    'sec-ch-ua': '\"Chromium\";v=\"136\", \"Google Chrome\";v=\"136\", \"Not.A/Brand\";v=\"99\"',\n",
    "    'sec-ch-ua-mobile': '?0',\n",
    "    'sec-ch-ua-platform': '\"macOS\"',\n",
    "    'sec-fetch-dest': 'empty',\n",
    "    'sec-fetch-mode': 'cors',\n",
    "    'sec-fetch-site': 'same-origin',\n",
    "    'sentry-trace': '435b6f3334654892b5c09b85a506c849-a9c012e1c5b1b78a',\n",
    "    'user-agent': 'Mozilla/5.0 (Macintosh; Intel Mac OS X 10_15_7) AppleWebKit/537.36 (KHTML, like Gecko) Chrome/136.0.0.0 Safari/537.36',\n",
    "    'x-requested-with': 'e5b5a5',\n",
    "    # 'cookie': '_cc_id=3509896f77494ca84b7a679e36b15c22; panoramaId_expiry=1748024168388; panoramaId=f6be54118ddb9e45d3cc52d6991d185ca02cf0b895c8c73d616508181ea09de2; panoramaIdType=panoDevice; _gcl_au=1.1.539864209.1747419369; _ga=GA1.1.1499796712.1747419369; cto_bundle=xggf8F85aUlkYlI1U3RLelEwenpMN3JnbkR6TmJ3RzNUNjBGMGFrQUZTZmNsNmtyV2pMZiUyQmZTQVVvbXZpZG5BYTJIb29NUW5melhxYWt4Smd6UCUyQmEycGp2ZFNJMTdmRXJpZlo5SllTUTl5JTJCblloRlolMkZzclZwdnVjaWt2NlpWbGhrJTJGNk40WExBeUJUb1VTJTJGM2hySmZjNEs5MGFVVHo0TTU1UmlsYzM5eFRFZyUyQmhxZ2FSOHolMkI1aUVzdVBKa3VQWUt0ejU3VmF6eldXS29CQ3cyQTFhNXFRaDAzZyUzRCUzRA; _lr_retry_request=true; _lr_env_src_ats=false; gc_session_id=tzhk6egplnbz7q7fkn36d; gcid_first=7fced087-15b8-477a-87f2-bd76f2b72fde; _au_1d=AU1D-0100-001747420344-9M9XHRH3-UEA0; pbjs-unifiedid=%7B%22TDID%22%3A%22dc9646cf-01e9-4a7b-8aab-c1276d4e80d4%22%2C%22TDID_LOOKUP%22%3A%22TRUE%22%2C%22TDID_CREATED_AT%22%3A%222025-04-16T18%3A46%3A43%22%7D; pbjs-unifiedid_cst=yyzLLLEsNg%3D%3D; __gads=ID=b4cd96465ad44304:T=1747420340:RT=1747423135:S=ALNI_MbdOWf7Rs98W67VDeVTuJa1ifIzmw; __gpi=UID=00000f17fcd95b25:T=1747420340:RT=1747423135:S=ALNI_MYsmHtajSKWErZnwaxsMtR1elzMbg; __eoi=ID=e0b12dc6c9dcc1b1:T=1747420340:RT=1747423135:S=AA-AfjYLs9jrsP3d581BN-sHmdrM; _ga_FVWZ0RM4DH=GS2.1.s1747423038$o2$g0$t1747423192$j60$l0$h0$dEeuyhg58ROkGC1SjtlHLWL4BHnsbzq4pWg; _awl=2.1747423199.5-8821a565f885c644c894a7c2d8d2668c-6763652d75732d6561737431-7; FCNEC=%5B%5B%22AKsRol8FFjoRiCuwi-ZTSIYFNiR_sn65VG8i1yObksmPOQbFeSuk6OqRCJi-q1Jv2fFeDLLG7SneubSIO1dYOPQZMWo9e-pI2fdHbZZohTNHUjdoCrT8kER0igMHSk6vk-Laj8t9VVLybWTQlSO-Zi3Z6rLigUdyaA%3D%3D%22%5D%5D; _ga_HNQ9P9MGZR=GS2.1.s1747419368$o1$g1$t1747423199$j60$l0$h0$d_AKZvbmySWrkOasl0wPve0s-ST2jFC48BA',\n",
    "}\n",
    "\n",
    "response = requests.get('https://www.sofascore.com/api/v1/event/12921283/shotmap', cookies=cookies, headers=headers)"
   ]
  },
  {
   "cell_type": "code",
   "execution_count": 42,
   "id": "4de9473f",
   "metadata": {},
   "outputs": [
    {
     "data": {
      "text/plain": [
       "403"
      ]
     },
     "execution_count": 42,
     "metadata": {},
     "output_type": "execute_result"
    }
   ],
   "source": [
    "response.status_code"
   ]
  },
  {
   "cell_type": "code",
   "execution_count": 43,
   "id": "4f1b5986",
   "metadata": {},
   "outputs": [],
   "source": [
    "headers['If-Modified-Since'] = 'Fri, 16 May 2025 00:00:00 GMT'"
   ]
  },
  {
   "cell_type": "code",
   "execution_count": 44,
   "id": "982d3237",
   "metadata": {},
   "outputs": [],
   "source": [
    "response = requests.get('https://www.sofascore.com/api/v1/event/12921283/shotmap', cookies=cookies, headers=headers)"
   ]
  },
  {
   "cell_type": "code",
   "execution_count": 45,
   "id": "af9dba0d",
   "metadata": {},
   "outputs": [
    {
     "data": {
      "text/plain": [
       "403"
      ]
     },
     "execution_count": 45,
     "metadata": {},
     "output_type": "execute_result"
    }
   ],
   "source": [
    "response.status_code"
   ]
  },
  {
   "cell_type": "code",
   "execution_count": 46,
   "id": "f8cc3f4f",
   "metadata": {},
   "outputs": [],
   "source": [
    "shots = response.json()"
   ]
  },
  {
   "cell_type": "code",
   "execution_count": 47,
   "id": "44424858",
   "metadata": {},
   "outputs": [
    {
     "data": {
      "text/plain": [
       "{'error': {'code': 403, 'reason': 'Forbidden'}}"
      ]
     },
     "execution_count": 47,
     "metadata": {},
     "output_type": "execute_result"
    }
   ],
   "source": [
    "shots"
   ]
  },
  {
   "cell_type": "code",
   "execution_count": null,
   "id": "06836c07",
   "metadata": {},
   "outputs": [],
   "source": []
  }
 ],
 "metadata": {
  "kernelspec": {
   "display_name": "Python 3 (ipykernel)",
   "language": "python",
   "name": "python3"
  },
  "language_info": {
   "codemirror_mode": {
    "name": "ipython",
    "version": 3
   },
   "file_extension": ".py",
   "mimetype": "text/x-python",
   "name": "python",
   "nbconvert_exporter": "python",
   "pygments_lexer": "ipython3",
   "version": "3.9.7"
  }
 },
 "nbformat": 4,
 "nbformat_minor": 5
}
